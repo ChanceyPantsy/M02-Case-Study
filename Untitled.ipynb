{
 "cells": [
  {
   "cell_type": "code",
   "execution_count": null,
   "id": "e5e4c093",
   "metadata": {},
   "outputs": [
    {
     "name": "stdout",
     "output_type": "stream",
     "text": [
      "Welcome to the GPA tester!\n",
      "Please type the student's last name. Type 'ZZZ' if you want to stop. Kizer\n",
      "Now, please type the student's first name. Chance\n",
      "Lastly, type the student's GPA. 3.2\n",
      "Chance Kizer has not made the Dean's List or the Honor Roll.\n",
      "Please type the student's last name. Type 'ZZZ' if you want to stop. Kapuno\n",
      "Now, please type the student's first name. Randall\n",
      "Lastly, type the student's GPA. 3.25\n",
      "Randall Kapuno has made the Honor Roll!\n",
      "Please type the student's last name. Type 'ZZZ' if you want to stop. Kizer\n",
      "Now, please type the student's first name. Leah\n",
      "Lastly, type the student's GPA. 3.49\n",
      "Leah Kizer has made the Honor Roll!\n",
      "Please type the student's last name. Type 'ZZZ' if you want to stop. Kapuno\n"
     ]
    }
   ],
   "source": [
    "print(\"Welcome to the GPA tester!\")\n",
    "while True:\n",
    "    last_name = input(\"Please type the student's last name. Type 'ZZZ' if you want to stop. \")\n",
    "    if last_name == \"ZZZ\" or last_name == \"zzz\":\n",
    "        print(\"Goodbye!\")\n",
    "        break\n",
    "    first_name = input(\"Now, please type the student's first name. \")\n",
    "    gpa_string = input(\"Lastly, type the student's GPA. \")\n",
    "    gpa = float(gpa_string)\n",
    "    if gpa >= 3.5:\n",
    "        print(first_name + \" \" + last_name + \" has made the Dean's List!\")\n",
    "    elif gpa >= 3.25:\n",
    "        print(first_name + \" \" + last_name + \" has made the Honor Roll!\")\n",
    "    else:\n",
    "        print(first_name + \" \" + last_name + \" has not made the Dean's List or the Honor Roll.\")\n",
    "    "
   ]
  },
  {
   "cell_type": "code",
   "execution_count": null,
   "id": "a5fd15a2",
   "metadata": {},
   "outputs": [],
   "source": []
  }
 ],
 "metadata": {
  "kernelspec": {
   "display_name": "Python 3 (ipykernel)",
   "language": "python",
   "name": "python3"
  },
  "language_info": {
   "codemirror_mode": {
    "name": "ipython",
    "version": 3
   },
   "file_extension": ".py",
   "mimetype": "text/x-python",
   "name": "python",
   "nbconvert_exporter": "python",
   "pygments_lexer": "ipython3",
   "version": "3.10.6"
  }
 },
 "nbformat": 4,
 "nbformat_minor": 5
}
